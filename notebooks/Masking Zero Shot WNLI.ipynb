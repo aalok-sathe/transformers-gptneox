{
 "cells": [
  {
   "cell_type": "code",
   "execution_count": 1,
   "metadata": {},
   "outputs": [
    {
     "name": "stdout",
     "output_type": "stream",
     "text": [
      "Better speed can be achieved with apex installed from https://www.github.com/nvidia/apex.\n"
     ]
    }
   ],
   "source": [
    "import sys\n",
    "import os\n",
    "\n",
    "import torch\n",
    "import pandas as pd\n",
    "pd.set_option(\"display.max_colwidth\", 400)\n",
    "import tqdm\n",
    "\n",
    "\n",
    "from pytorch_pretrained_bert import modeling, tokenization\n",
    "from language_modeling.runners import (\n",
    "    tokenize_example, InputExample,\n",
    "    convert_example_to_features, features_to_data,\n",
    ")\n",
    "from glue.wnli_utils import masking_predictor"
   ]
  },
  {
   "cell_type": "code",
   "execution_count": 2,
   "metadata": {},
   "outputs": [],
   "source": [
    "device = torch.device(\"cpu\")\n",
    "bert_model_name = \"bert-base-uncased\"\n",
    "\n",
    "model = modeling.BertForPreTraining.from_pretrained(bert_model_name)\n",
    "model.to(device);\n",
    "model.eval();\n",
    "\n",
    "tokenizer = tokenization.BertTokenizer.from_pretrained(bert_model_name, do_lower_case=True)"
   ]
  },
  {
   "cell_type": "code",
   "execution_count": 3,
   "metadata": {},
   "outputs": [],
   "source": [
    "FOLDER = \"../data\"\n",
    "WNLI_TRAIN_PATH = os.path.join(FOLDER, \"train.tsv\")\n",
    "WNLI_DEV_PATH = os.path.join(FOLDER, \"dev.tsv\")\n",
    "WNLI_TEST_PATH = os.path.join(FOLDER, \"test.tsv\")\n",
    "\n",
    "train_df = pd.read_csv(WNLI_TRAIN_PATH, sep=\"\\t\")\n",
    "val_df = pd.read_csv(WNLI_DEV_PATH, sep=\"\\t\")\n",
    "test_df = pd.read_csv(WNLI_TEST_PATH, sep=\"\\t\")"
   ]
  },
  {
   "cell_type": "code",
   "execution_count": 9,
   "metadata": {},
   "outputs": [
    {
     "data": {
      "application/vnd.jupyter.widget-view+json": {
       "model_id": "fbfed0cb0a514d9ca5a1d215f9d5bdd1",
       "version_major": 2,
       "version_minor": 0
      },
      "text/plain": [
       "HBox(children=(IntProgress(value=0, max=635), HTML(value='')))"
      ]
     },
     "metadata": {},
     "output_type": "display_data"
    },
    {
     "name": "stdout",
     "output_type": "stream",
     "text": [
      "\n",
      "Train acc:  0.5606299212598426\n",
      "mean train pred: 0.6062992125984252\n"
     ]
    }
   ],
   "source": [
    "STOP_AT = 10000\n",
    "\n",
    "train_pred_arr, train_all_alt_ls, pos_a, pos_b, tok_a, tok_b = masking_predictor(train_df.iloc[:STOP_AT], tokenizer, \n",
    "                                                                                 model, device)\n",
    "\n",
    "# val_pred_arr, val_all_alt_ls, *_ = masking_predictor(val_df, tokenizer, model)\n",
    "\n",
    "print(\"Train acc: \", (train_pred_arr==train_df[\"label\"][:STOP_AT]).mean())\n",
    "# print(\"Val acc: \", (val_pred_arr==val_df[\"label\"]).mean())\n",
    "\n",
    "print(\"mean train pred:\", train_pred_arr.mean())\n",
    "# print(\"mean val pred:\", val_pred_arr.mean())"
   ]
  },
  {
   "cell_type": "code",
   "execution_count": null,
   "metadata": {},
   "outputs": [],
   "source": [
    "filling_predictor(None, tokenizer, model)"
   ]
  },
  {
   "cell_type": "markdown",
   "metadata": {},
   "source": [
    "## Visualize errors"
   ]
  },
  {
   "cell_type": "code",
   "execution_count": null,
   "metadata": {
    "scrolled": true
   },
   "outputs": [],
   "source": [
    "for i, (pred, true, sent1, sent2, faked) in enumerate(zip(train_pred_arr, train_df[\"label\"], \n",
    "                                                   train_df['sentence1'], train_df['sentence2'], train_all_alt_ls)):\n",
    "    if not (true == pred):\n",
    "        print(sent1, sent2, faked[-1], bool(true), pred)\n",
    "        print()\n",
    "    if i > 80:    \n",
    "        break"
   ]
  }
 ],
 "metadata": {
  "kernelspec": {
   "display_name": "Python 3",
   "language": "python",
   "name": "python3"
  },
  "language_info": {
   "codemirror_mode": {
    "name": "ipython",
    "version": 3
   },
   "file_extension": ".py",
   "mimetype": "text/x-python",
   "name": "python",
   "nbconvert_exporter": "python",
   "pygments_lexer": "ipython3",
   "version": "3.6.8"
  }
 },
 "nbformat": 4,
 "nbformat_minor": 2
}
