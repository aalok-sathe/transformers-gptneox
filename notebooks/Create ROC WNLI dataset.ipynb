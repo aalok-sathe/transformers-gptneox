{
  "cells": [
    {
      "cell_type": "code",
      "execution_count": 5,
      "metadata": {
        "pycharm": {}
      },
      "outputs": [],
      "source": [
        "import os\n",
        "\n",
        "import pandas as pd\n",
        "import numpy as np\n",
        "\n",
        "from glue.roc_dataset_utils import generate_split"
      ]
    },
    {
      "cell_type": "code",
      "execution_count": 6,
      "metadata": {
        "pycharm": {}
      },
      "outputs": [
        {
          "data": {
            "application/vnd.jupyter.widget-view+json": {
              "model_id": "8229ddb2722f49fca782457f366eb6ec",
              "version_major": 2,
              "version_minor": 0
            },
            "text/plain": [
              "HBox(children\u003d(IntProgress(value\u003d0, max\u003d1871), HTML(value\u003d\u0027\u0027)))"
            ]
          },
          "metadata": {},
          "output_type": "display_data"
        },
        {
          "name": "stdout",
          "output_type": "stream",
          "text": [
            "\n",
            "Created 1871 examples\n",
            "Created an average of: 6.136825227151256 fake examples\n",
            "Data shape (13353, 3)\n",
            "Saving to  ../data/cloze/train.tsv\n"
          ]
        },
        {
          "data": {
            "application/vnd.jupyter.widget-view+json": {
              "model_id": "e96b0c584ae443b8a429aa84937ebfcb",
              "version_major": 2,
              "version_minor": 0
            },
            "text/plain": [
              "HBox(children\u003d(IntProgress(value\u003d0, max\u003d935), HTML(value\u003d\u0027\u0027)))"
            ]
          },
          "metadata": {},
          "output_type": "display_data"
        },
        {
          "name": "stdout",
          "output_type": "stream",
          "text": [
            "\n",
            "Created 935 examples\n",
            "Created an average of: 6.074866310160428 fake examples\n",
            "Data shape (6615, 3)\n",
            "Saving to  ../data/cloze/valid.tsv\n"
          ]
        },
        {
          "data": {
            "application/vnd.jupyter.widget-view+json": {
              "model_id": "7f7199a906ca4d32a5f88350c99779bc",
              "version_major": 2,
              "version_minor": 0
            },
            "text/plain": [
              "HBox(children\u003d(IntProgress(value\u003d0, max\u003d936), HTML(value\u003d\u0027\u0027)))"
            ]
          },
          "metadata": {},
          "output_type": "display_data"
        },
        {
          "name": "stdout",
          "output_type": "stream",
          "text": [
            "\n",
            "Created 936 examples\n",
            "Created an average of: 6.256410256410256 fake examples\n",
            "Data shape (6792, 3)\n",
            "Saving to  ../data/cloze/test.tsv\n"
          ]
        }
      ],
      "source": [
        "FOLDER \u003d \u0027../data/cloze/\u0027\n",
        "TRAIN_FILE \u003d os.path.join(FOLDER, \u0027train.tsv\u0027)\n",
        "VAL_FILE \u003d os.path.join(FOLDER, \u0027valid.tsv\u0027)\n",
        "TEST_FILE \u003d os.path.join(FOLDER, \u0027test.tsv\u0027)\n",
        "\n",
        "\n",
        "ORIG_VAL \u003d os.path.join(FOLDER, \u0027cloze_test_val__spring2016 - cloze_test_ALL_val.tsv\u0027)\n",
        "ORIG_TEST \u003d os.path.join(FOLDER, \u0027cloze_test_test__spring2016 - cloze_test_ALL_test.tsv\u0027)\n",
        "\n",
        "train \u003d pd.read_csv(ORIG_VAL, sep\u003d\u0027\\t\u0027)\n",
        "val_test \u003d pd.read_csv(ORIG_TEST, sep\u003d\u0027\\t\u0027)\n",
        "\n",
        "end_val \u003d len(val_test) // 2\n",
        "\n",
        "gen_train \u003d generate_split(train, TRAIN_FILE)\n",
        "gen_val \u003d generate_split(val_test.iloc[:end_val].copy(), VAL_FILE)\n",
        "gen_test \u003d generate_split(val_test.iloc[end_val:].copy(), TEST_FILE)"
      ]
    },
    {
      "cell_type": "markdown",
      "metadata": {
        "pycharm": {}
      },
      "source": [
        "## Investigate preds on WNLI"
      ]
    },
    {
      "cell_type": "code",
      "execution_count": 8,
      "metadata": {
        "pycharm": {}
      },
      "outputs": [
        {
          "name": "stdout",
          "output_type": "stream",
          "text": [
            "0.2535211267605634\n",
            "0.4178082191780822\n"
          ]
        }
      ],
      "source": [
        "VAL_WNLI_PREDS \u003d \"/scratch/tjf324/pytorch-pretrained-BERT/cloze__wnli/val_preds.csv\"\n",
        "TEST_WNLI_PREDS \u003d \"/scratch/tjf324/pytorch-pretrained-BERT/cloze__wnli/test_preds.csv\"\n",
        "val_wnli_preds \u003d pd.read_csv(VAL_WNLI_PREDS, header\u003dNone)\n",
        "test_wnli_preds \u003d pd.read_csv(TEST_WNLI_PREDS, header\u003dNone)\n",
        "\n",
        "print((val_wnli_preds.iloc[:, 1] \u003e val_wnli_preds.iloc[:, 0]).mean())\n",
        "print((test_wnli_preds.iloc[:, 1] \u003e test_wnli_preds.iloc[:, 0]).mean())"
      ]
    },
    {
      "cell_type": "code",
      "execution_count": 13,
      "metadata": {
        "pycharm": {}
      },
      "outputs": [
        {
          "name": "stdout",
          "output_type": "stream",
          "text": [
            "0.14061793519216279\n"
          ]
        }
      ],
      "source": "VAL_CLOZE_PREDS \u003d \"/scratch/tjf324/pytorch-pretrained-BERT/cloze/val_preds.csv\"\nval_cloze_preds \u003d pd.read_csv(VAL_CLOZE_PREDS, header\u003dNone)\nprint((val_cloze_preds.iloc[:, 1] \u003e val_cloze_preds.iloc[:, 0]).mean())\nCLOZE_VAL \u003d \"/scratch/tjf324/data/glue_auto_dl/cloze/valid.tsv\"\nval_csv \u003d pd.read_csv(CLOZE_VAL, sep\u003d\u0027\\t\u0027)\nval_csv[\u0027pred\u0027] \u003d (val_cloze_preds.iloc[:, 1] \u003e val_cloze_preds.iloc[:, 0]).astype(int)\n"
    }
  ],
  "metadata": {
    "kernelspec": {
      "display_name": "Python 3",
      "language": "python",
      "name": "python3"
    },
    "language_info": {
      "codemirror_mode": {
        "name": "ipython",
        "version": 3
      },
      "file_extension": ".py",
      "mimetype": "text/x-python",
      "name": "python",
      "nbconvert_exporter": "python",
      "pygments_lexer": "ipython3",
      "version": "3.6.8"
    }
  },
  "nbformat": 4,
  "nbformat_minor": 2
}