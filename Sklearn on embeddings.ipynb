{
 "cells": [
  {
   "cell_type": "code",
   "execution_count": 1,
   "metadata": {},
   "outputs": [],
   "source": [
    "import pickle\n",
    "from sklearn.linear_model import LogisticRegression\n",
    "from sklearn.ensemble import RandomForestClassifier\n",
    "from sklearn.neighbors import KNeighborsClassifier\n",
    "from sklearn.metrics import accuracy_score, matthews_corrcoef, f1_score\n",
    "from sklearn.svm import SVC"
   ]
  },
  {
   "cell_type": "code",
   "execution_count": 2,
   "metadata": {
    "scrolled": true
   },
   "outputs": [],
   "source": [
    "\n",
    "TASKS_AND_METRICS = {\n",
    "    \"COLA\": matthews_corrcoef,\n",
    "    \"RTE\": accuracy_score,\n",
    "\n",
    "    \"MRPC\": accuracy_score,\n",
    "    \"QNLI\": accuracy_score,\n",
    "    \"MNLI\": accuracy_score,\n",
    "#     \"QQP\": accuracy_score,\n",
    "\n",
    "\n",
    "}\n",
    "\n",
    "\n",
    "\n",
    "lr = LogisticRegression(solver='lbfgs', max_iter=1000)\n",
    "rfc = RandomForestClassifier(n_jobs=4, n_estimators=10)\n",
    "rfc_100_est = RandomForestClassifier(n_estimators=100, n_jobs=4)\n",
    "rfc_300_est = RandomForestClassifier(n_estimators=300, n_jobs=4)\n",
    "knn = KNeighborsClassifier()\n",
    "svc = SVC(gamma=\"scale\")\n",
    "\n",
    "models = {\"lr\": lr,\n",
    "          \"rfc\": rfc,\n",
    "          \"rfc_100_est\": rfc_100_est,\n",
    "          \"rfc_300_est\": rfc_300_est,\n",
    "          \"knn\": knn,\n",
    "          \"svc\": svc,\n",
    "         }\n",
    "scores = {}    "
   ]
  },
  {
   "cell_type": "code",
   "execution_count": 3,
   "metadata": {},
   "outputs": [],
   "source": [
    "?LogisticRegression"
   ]
  },
  {
   "cell_type": "code",
   "execution_count": 4,
   "metadata": {},
   "outputs": [],
   "source": [
    "def score_per_task():\n",
    "    task_to_scores = {}\n",
    "    for task, metric in TASKS_AND_METRICS.items():\n",
    "        print(f'Doing task {task}')\n",
    "        with open(f\"embeddings/{task}/train.pkl\", \"rb\") as infile:\n",
    "            X_train, y_train = pickle.load(infile)\n",
    "        with open(f\"embeddings/{task}/dev.pkl\", \"rb\") as infile:\n",
    "            X_dev, y_dev = pickle.load(infile)\n",
    "        scores = {}\n",
    "        for model_name, model in models.items():\n",
    "            if task in (\"QNLI\", \"QQP\", \"MNLI\"):\n",
    "                if model_name in (\"svc\", \"rfc_300_est\"):\n",
    "                    continue\n",
    "                \n",
    "            print(f'Doing model {model_name}')\n",
    "            model.fit(X_train, y_train)\n",
    "            preds = model.predict(X_dev)\n",
    "            if metric == f1_score:\n",
    "                preds = [int(i) for i in preds]\n",
    "                y_dev = [int(i) for i in y_dev]\n",
    "            scores[model_name] = metric(y_dev, preds)\n",
    "        print(scores)\n",
    "        task_to_scores[task] = scores\n",
    "    return task_to_scores\n",
    "    "
   ]
  },
  {
   "cell_type": "code",
   "execution_count": 5,
   "metadata": {},
   "outputs": [
    {
     "name": "stdout",
     "output_type": "stream",
     "text": [
      "Doing task COLA\n",
      "Doing model lr\n",
      "Doing model rfc\n",
      "Doing model rfc_100_est\n",
      "Doing model rfc_300_est\n",
      "Doing model knn\n",
      "Doing model svc\n",
      "{'lr': 0.6431471477188715, 'rfc': 0.6305380037656513, 'rfc_100_est': 0.640766637939218, 'rfc_300_est': 0.6432718914115204, 'knn': 0.6420445126187212, 'svc': 0.6442142090411843}\n",
      "Doing task RTE\n",
      "Doing model lr\n",
      "Doing model rfc\n",
      "Doing model rfc_100_est\n",
      "Doing model rfc_300_est\n",
      "Doing model knn\n",
      "Doing model svc\n",
      "{'lr': 0.8592057761732852, 'rfc': 0.8411552346570397, 'rfc_100_est': 0.8483754512635379, 'rfc_300_est': 0.8483754512635379, 'knn': 0.851985559566787, 'svc': 0.8483754512635379}\n",
      "Doing task MRPC\n",
      "Doing model lr\n",
      "Doing model rfc\n",
      "Doing model rfc_100_est\n",
      "Doing model rfc_300_est\n",
      "Doing model knn\n",
      "Doing model svc\n",
      "{'lr': 0.8676470588235294, 'rfc': 0.8799019607843137, 'rfc_100_est': 0.8725490196078431, 'rfc_300_est': 0.8774509803921569, 'knn': 0.8799019607843137, 'svc': 0.8774509803921569}\n",
      "Doing task QNLI\n",
      "Doing model lr\n"
     ]
    },
    {
     "name": "stderr",
     "output_type": "stream",
     "text": [
      "/anaconda3/envs/biobert/lib/python3.7/site-packages/sklearn/linear_model/logistic.py:758: ConvergenceWarning: lbfgs failed to converge. Increase the number of iterations.\n",
      "  \"of iterations.\", ConvergenceWarning)\n"
     ]
    },
    {
     "name": "stdout",
     "output_type": "stream",
     "text": [
      "Doing model rfc\n",
      "Doing model rfc_100_est\n",
      "Doing model knn\n",
      "{'lr': 0.9063154221912073, 'rfc': 0.9045708304256804, 'rfc_100_est': 0.9084089323098395, 'knn': 0.9049197487787858}\n",
      "Doing task MNLI\n",
      "Doing model lr\n"
     ]
    },
    {
     "name": "stderr",
     "output_type": "stream",
     "text": [
      "/anaconda3/envs/biobert/lib/python3.7/site-packages/sklearn/linear_model/logistic.py:460: FutureWarning: Default multi_class will be changed to 'auto' in 0.22. Specify the multi_class option to silence this warning.\n",
      "  \"this warning.\", FutureWarning)\n",
      "/anaconda3/envs/biobert/lib/python3.7/site-packages/sklearn/linear_model/logistic.py:758: ConvergenceWarning: lbfgs failed to converge. Increase the number of iterations.\n",
      "  \"of iterations.\", ConvergenceWarning)\n",
      "/anaconda3/envs/biobert/lib/python3.7/site-packages/sklearn/linear_model/logistic.py:758: ConvergenceWarning: lbfgs failed to converge. Increase the number of iterations.\n",
      "  \"of iterations.\", ConvergenceWarning)\n",
      "/anaconda3/envs/biobert/lib/python3.7/site-packages/sklearn/linear_model/logistic.py:758: ConvergenceWarning: lbfgs failed to converge. Increase the number of iterations.\n",
      "  \"of iterations.\", ConvergenceWarning)\n"
     ]
    },
    {
     "name": "stdout",
     "output_type": "stream",
     "text": [
      "Doing model rfc\n",
      "Doing model rfc_100_est\n",
      "Doing model knn\n",
      "{'lr': 0.8677534386143657, 'rfc': 0.8626591951095263, 'rfc_100_est': 0.867142129393785, 'knn': 0.8641874681609781}\n"
     ]
    }
   ],
   "source": [
    "task_to_scores = score_per_task()"
   ]
  },
  {
   "cell_type": "code",
   "execution_count": 6,
   "metadata": {},
   "outputs": [],
   "source": [
    "?LogisticRegression"
   ]
  },
  {
   "cell_type": "code",
   "execution_count": null,
   "metadata": {},
   "outputs": [],
   "source": []
  }
 ],
 "metadata": {
  "kernelspec": {
   "display_name": "Python 3",
   "language": "python",
   "name": "python3"
  },
  "language_info": {
   "codemirror_mode": {
    "name": "ipython",
    "version": 3
   },
   "file_extension": ".py",
   "mimetype": "text/x-python",
   "name": "python",
   "nbconvert_exporter": "python",
   "pygments_lexer": "ipython3",
   "version": "3.7.2"
  }
 },
 "nbformat": 4,
 "nbformat_minor": 2
}
