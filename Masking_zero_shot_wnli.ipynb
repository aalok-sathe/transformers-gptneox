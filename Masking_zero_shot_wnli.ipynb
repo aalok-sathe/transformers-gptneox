{
 "cells": [
  {
   "cell_type": "code",
   "execution_count": 15,
   "metadata": {},
   "outputs": [
    {
     "name": "stdout",
     "output_type": "stream",
     "text": [
      "The autoreload extension is already loaded. To reload it, use:\n",
      "  %reload_ext autoreload\n"
     ]
    }
   ],
   "source": [
    "%load_ext autoreload\n",
    "%autoreload 2"
   ]
  },
  {
   "cell_type": "code",
   "execution_count": 16,
   "metadata": {},
   "outputs": [
    {
     "name": "stderr",
     "output_type": "stream",
     "text": [
      "04/23/2019 19:58:40 - INFO - pytorch_pretrained_bert.modeling -   loading archive file https://s3.amazonaws.com/models.huggingface.co/bert/bert-base-uncased.tar.gz from cache at /Users/thibault/.pytorch_pretrained_bert/9c41111e2de84547a463fd39217199738d1e3deb72d4fec4399e6e241983c6f0.ae3cef932725ca7a30cdcb93fc6e09150a55e2a130ec7af63975a16c153ae2ba\n",
      "04/23/2019 19:58:40 - INFO - pytorch_pretrained_bert.modeling -   extracting archive file /Users/thibault/.pytorch_pretrained_bert/9c41111e2de84547a463fd39217199738d1e3deb72d4fec4399e6e241983c6f0.ae3cef932725ca7a30cdcb93fc6e09150a55e2a130ec7af63975a16c153ae2ba to temp dir /var/folders/qf/0zz0jmx54kg63r16jr2v1mq00000gn/T/tmpyj_mgrgm\n",
      "04/23/2019 19:58:43 - INFO - pytorch_pretrained_bert.modeling -   Model config {\n",
      "  \"adapter_act\": \"gelu\",\n",
      "  \"adapter_initializer_range\": 0.0002,\n",
      "  \"adapter_size\": 64,\n",
      "  \"attention_probs_dropout_prob\": 0.1,\n",
      "  \"hidden_act\": \"gelu\",\n",
      "  \"hidden_dropout_prob\": 0.1,\n",
      "  \"hidden_size\": 768,\n",
      "  \"initializer_range\": 0.02,\n",
      "  \"intermediate_size\": 3072,\n",
      "  \"max_position_embeddings\": 512,\n",
      "  \"num_attention_heads\": 12,\n",
      "  \"num_hidden_layers\": 12,\n",
      "  \"type_vocab_size\": 2,\n",
      "  \"use_adapter\": false,\n",
      "  \"vocab_size\": 30522\n",
      "}\n",
      "\n",
      "04/23/2019 19:58:47 - INFO - pytorch_pretrained_bert.tokenization -   loading vocabulary file https://s3.amazonaws.com/models.huggingface.co/bert/bert-base-uncased-vocab.txt from cache at /Users/thibault/.pytorch_pretrained_bert/26bc1ad6c0ac742e9b52263248f6d0f00068293b33709fae12320c0e35ccfbbb.542ce4285a40d23a559526243235df47c5f75c197f04f37d1a0c124c32c9a084\n"
     ]
    }
   ],
   "source": [
    "import os\n",
    "import json\n",
    "\n",
    "import torch\n",
    "import pandas as pd\n",
    "import numpy as np\n",
    "pd.set_option(\"display.max_colwidth\", 400)\n",
    "import tqdm\n",
    "\n",
    "\n",
    "from pytorch_pretrained_bert import modeling, tokenization\n",
    "from language_modeling.runners import (\n",
    "    tokenize_example, InputExample,\n",
    "    convert_example_to_features, features_to_data,\n",
    ")\n",
    "from glue.wnli_utils import masking_predictor, compare_two_examples\n",
    "\n",
    "device = torch.device(\"cpu\")\n",
    "bert_model_name = \"bert-base-uncased\"\n",
    "\n",
    "model = modeling.BertForPreTraining.from_pretrained(bert_model_name)\n",
    "model.to(device);\n",
    "model.eval();\n",
    "\n",
    "tokenizer = tokenization.BertTokenizer.from_pretrained(bert_model_name, do_lower_case=True)"
   ]
  },
  {
   "cell_type": "code",
   "execution_count": 17,
   "metadata": {},
   "outputs": [],
   "source": [
    "FOLDER = \"data/wnli\"\n",
    "WNLI_TRAIN_PATH = os.path.join(FOLDER, \"train.tsv\")\n",
    "WNLI_DEV_PATH = os.path.join(FOLDER, \"dev.tsv\")\n",
    "WNLI_TEST_PATH = os.path.join(FOLDER, \"test.tsv\")\n",
    "\n",
    "train_df = pd.read_csv(WNLI_TRAIN_PATH, sep=\"\\t\")\n",
    "val_df = pd.read_csv(WNLI_DEV_PATH, sep=\"\\t\")\n",
    "test_df = pd.read_csv(WNLI_TEST_PATH, sep=\"\\t\")"
   ]
  },
  {
   "cell_type": "code",
   "execution_count": 19,
   "metadata": {},
   "outputs": [
    {
     "data": {
      "application/vnd.jupyter.widget-view+json": {
       "model_id": "bc237296869646c69cddd2fb25fb914e",
       "version_major": 2,
       "version_minor": 0
      },
      "text/plain": [
       "HBox(children=(IntProgress(value=0, max=10), HTML(value='')))"
      ]
     },
     "metadata": {},
     "output_type": "display_data"
    },
    {
     "name": "stdout",
     "output_type": "stream",
     "text": [
      "\n",
      "Train acc:  0.7\n",
      "mean train pred: 0.6\n"
     ]
    }
   ],
   "source": [
    "STOP_AT = 10\n",
    "\n",
    "train_pred_arr, train_all_alt_ls, pos_a, pos_b, tok_a, tok_b = masking_predictor(train_df.iloc[:STOP_AT], tokenizer, \n",
    "                                                                                 model, device)\n",
    "\n",
    "# val_pred_arr, val_all_alt_ls, *_ = masking_predictor(val_df, tokenizer, model)\n",
    "\n",
    "print(\"Train acc: \", (train_pred_arr==train_df[\"label\"][:STOP_AT]).mean())\n",
    "# print(\"Val acc: \", (val_pred_arr==val_df[\"label\"]).mean())\n",
    "\n",
    "print(\"mean train pred:\", train_pred_arr.mean())\n",
    "# print(\"mean val pred:\", val_pred_arr.mean())"
   ]
  },
  {
   "cell_type": "markdown",
   "metadata": {},
   "source": [
    "# Original Winograd"
   ]
  },
  {
   "cell_type": "code",
   "execution_count": 7,
   "metadata": {},
   "outputs": [],
   "source": [
    "path = \"data/winograd/wsc273.json\"    \n",
    "data = pd.read_json(path)"
   ]
  },
  {
   "cell_type": "code",
   "execution_count": 20,
   "metadata": {},
   "outputs": [
    {
     "data": {
      "text/plain": [
       "546"
      ]
     },
     "execution_count": 20,
     "metadata": {},
     "output_type": "execute_result"
    }
   ],
   "source": [
    "len(data)"
   ]
  },
  {
   "cell_type": "code",
   "execution_count": 14,
   "metadata": {},
   "outputs": [
    {
     "data": {
      "application/vnd.jupyter.widget-view+json": {
       "model_id": "a10c1b9daabd4e4a9386d2e11abe7882",
       "version_major": 2,
       "version_minor": 0
      },
      "text/plain": [
       "HBox(children=(IntProgress(value=0, max=273), HTML(value='')))"
      ]
     },
     "metadata": {},
     "output_type": "display_data"
    },
    {
     "name": "stdout",
     "output_type": "stream",
     "text": [
      "\n"
     ]
    }
   ],
   "source": [
    "labels = []\n",
    "preds = []\n",
    "l = []\n",
    "for i in tqdm.tqdm_notebook(range(data.question_id.max()+1)):\n",
    "    sent1, sent2 = data[data.question_id == i].substitution\n",
    "    labels.append(int(data[data.question_id == i].correctness.iloc[1]))\n",
    "    pred, same_l = compare_two_examples(tokenizer, model, sent1, sent2, device, \"masking\")\n",
    "    preds.append(pred)\n",
    "    l.append(same_l)"
   ]
  },
  {
   "cell_type": "code",
   "execution_count": 12,
   "metadata": {},
   "outputs": [
    {
     "name": "stdout",
     "output_type": "stream",
     "text": [
      "0.5384615384615384\n"
     ]
    }
   ],
   "source": [
    "labels = np.array(labels)\n",
    "preds = np.array(preds)\n",
    "l = np.array(l)\n",
    "print((labels == preds).mean())"
   ]
  },
  {
   "cell_type": "code",
   "execution_count": 13,
   "metadata": {},
   "outputs": [
    {
     "data": {
      "text/plain": [
       "0.4981684981684982"
      ]
     },
     "execution_count": 13,
     "metadata": {},
     "output_type": "execute_result"
    }
   ],
   "source": [
    "labels.mean()"
   ]
  }
 ],
 "metadata": {
  "kernelspec": {
   "display_name": "Python 3",
   "language": "python",
   "name": "python3"
  },
  "language_info": {
   "codemirror_mode": {
    "name": "ipython",
    "version": 3
   },
   "file_extension": ".py",
   "mimetype": "text/x-python",
   "name": "python",
   "nbconvert_exporter": "python",
   "pygments_lexer": "ipython3",
   "version": "3.7.2"
  }
 },
 "nbformat": 4,
 "nbformat_minor": 2
}
